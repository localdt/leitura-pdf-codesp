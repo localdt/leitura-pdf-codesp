{
 "cells": [
  {
   "cell_type": "markdown",
   "id": "001ebfa2",
   "metadata": {},
   "source": [
    "### Imports ###"
   ]
  },
  {
   "cell_type": "code",
   "execution_count": 133,
   "id": "09c00fe5",
   "metadata": {},
   "outputs": [],
   "source": [
    "#Bibliotecas que realizam a leitura e conversão do PDF para DataFrame\n",
    "import tabula\n",
    "from tabula.io import read_pdf\n",
    "#Bibliotecas para manipulação do DataFrame\n",
    "import pandas as pd\n",
    "import numpy as np\n",
    "#Bibliotecas para ler e baixar pdfs\n",
    "import requests\n",
    "from bs4 import BeautifulSoup"
   ]
  },
  {
   "cell_type": "code",
   "execution_count": 131,
   "id": "cc20e810",
   "metadata": {},
   "outputs": [],
   "source": [
    "#Local onde estão os arquivos PDF da CODESP\n",
    "path_global = 'C:\\\\'"
   ]
  },
  {
   "cell_type": "code",
   "execution_count": 136,
   "id": "51267d19",
   "metadata": {},
   "outputs": [],
   "source": [
    "def leitura_codesp(df, page):\n",
    "    if(page == 15):\n",
    "        tipo = 'E'\n",
    "    else:\n",
    "        tipo = 'I'\n",
    "    #Preencher Títulos da tabela\n",
    "    dfTitulos = df[1]\n",
    "    dfTitulos = dfTitulos.loc[:, ~dfTitulos.columns.str.contains('Unnamed')]\n",
    "    dfTitulos = dfTitulos.T\n",
    "    dfTitulos.reset_index(inplace=True)\n",
    "    dfTitulos = dfTitulos.rename(columns = {'index':'Terminal'})\n",
    "    dfTitulos = dfTitulos[['Terminal']]\n",
    "    \n",
    "    #Preencher Mês do Relatório\n",
    "    periodo = df[0].iloc[: , -1:]    \n",
    "    periodo = periodo[df[0].columns[6]]\n",
    "    periodo = periodo.str.split('-')\n",
    "    periodo = periodo.tolist()\n",
    "    periodo = periodo[0][1].strip()\n",
    "        \n",
    "    #Leitura dos Resultados\n",
    "    l = [2,3]\n",
    "    dfAll = pd.DataFrame(columns={'Período','Operação','Terminal','Tipo','F_E','20_40','Tipo_Valor','Valor'})\n",
    "    \n",
    "    for r in l:        \n",
    "        if (r == 2):\n",
    "            operacao = 'Longo Curso'\n",
    "        else:\n",
    "            operacao = 'Cabotagem'\n",
    "        \n",
    "        #Retirando coluna a mais criada somente na tabela cabotagem\n",
    "        if(r == 3 and page == 15):\n",
    "            df[r] = df[r].drop(columns=['Unnamed: 1'])\n",
    "        \n",
    "        dfResultados = df[r].T\n",
    "        dfResultados.reset_index(inplace=True)\n",
    "        dfResultados = dfResultados.rename(columns = {'index':'Quant'})\n",
    "        dfResultados = dfResultados[2:]\n",
    "\n",
    "        #Tratamento dos Dados\n",
    "        dfResultados = dfResultados.rename(columns={dfResultados.columns[0]:'F_20',\n",
    "                                                    dfResultados.columns[1]:'F_40',\n",
    "                                                    dfResultados.columns[2]:'F_Soma',\n",
    "                                                    dfResultados.columns[3]:'E_20',\n",
    "                                                    dfResultados.columns[4]:'E_40',\n",
    "                                                    dfResultados.columns[5]:'E_Soma',\n",
    "                                                    dfResultados.columns[6]:'Total_20',\n",
    "                                                    dfResultados.columns[7]:'Total_40',\n",
    "                                                    dfResultados.columns[8]:'Total_Soma'})\n",
    "        dfResultados = dfResultados.loc[:, ~dfResultados.columns.str.contains('Soma')]\n",
    "        dfResultados = dfResultados.loc[:, ~dfResultados.columns.str.contains('Total')]\n",
    "        dfResultados = dfResultados.reset_index()\n",
    "        dfResultados = dfResultados.loc[:, ~dfResultados.columns.str.contains('index')]\n",
    "        dfResultados['Tipo'] = ''\n",
    "        dfResultados.drop(dfResultados.tail(3).index,inplace=True)\n",
    "        for column in dfResultados.columns:\n",
    "                x = 0\n",
    "                y = 0    \n",
    "                tipo_valor = ''\n",
    "                for c in dfResultados[column]:\n",
    "                    terminal = dfTitulos['Terminal'].iloc[y]\n",
    "                    if(x%2 == 0):\n",
    "                        #par\n",
    "                        tipo_valor = 'Quantidade'\n",
    "                    else:\n",
    "                        #impar\n",
    "                        tipo_valor = 'Peso'\n",
    "                        y = y + 1\n",
    "\n",
    "                    dict = {'Período': periodo,'Operação': operacao, 'Terminal':terminal,'Tipo':tipo, 'F_E':column[0:1], '20_40':column[2:],'Tipo_Valor':tipo_valor,'Valor': c}\n",
    "                    dfAll = dfAll.append(dict, ignore_index = True)       \n",
    "                    x = x + 1\n",
    "                    if x == 1:\n",
    "                        y = 0\n",
    "                    if y == 5:\n",
    "                        y = 0\n",
    "        dfAll = dfAll[~dfAll['F_E'].isin(['T'])]\n",
    "        dfAll = dfAll[dfAll['Tipo_Valor']=='Quantidade']\n",
    "        dfAll = dfAll[~dfAll['Terminal'].isin(['Demais Pontos'])]\n",
    "\n",
    "        dfAll['Valor'] = np.where(dfAll['Valor'].str.contains('Unnamed') == True, 0, dfAll['Valor'])\n",
    "        dfAll['Valor'] = np.where(dfAll['Valor'].str.contains('-') == True, 0, dfAll['Valor'])\n",
    "        dfAll['Valor'] = np.where(dfAll['Valor'].str.contains('.') == True, dfAll['Valor'].str.replace(\".\",\"\").astype('float'), dfAll['Valor'].astype('float'))\n",
    "        dfAll['Valor'] = dfAll['Valor'].fillna(0)\n",
    "\n",
    "    return dfAll"
   ]
  },
  {
   "cell_type": "code",
   "execution_count": 35,
   "id": "5a29e2b6",
   "metadata": {},
   "outputs": [
    {
     "name": "stderr",
     "output_type": "stream",
     "text": [
      "C:\\Users\\M05DE~1.DAL\\AppData\\Local\\Temp/ipykernel_9048/2286270596.py:83: FutureWarning: The default value of regex will change from True to False in a future version. In addition, single character regular expressions will *not* be treated as literal strings when regex=True.\n",
      "  dfAll['Valor'] = np.where(dfAll['Valor'].str.contains('.') == True, dfAll['Valor'].str.replace(\".\",\"\").astype('float'), dfAll['Valor'].astype('float'))\n"
     ]
    },
    {
     "ename": "PermissionError",
     "evalue": "[Errno 13] Permission denied: 'C:\\\\Users\\\\m.dalves\\\\Documents\\\\GIT\\\\ML Project Rollover\\\\ANTAQ\\\\ANTAQ\\\\codesp_2022_jan_a_abr.xlsx'",
     "output_type": "error",
     "traceback": [
      "\u001b[1;31m---------------------------------------------------------------------------\u001b[0m",
      "\u001b[1;31mPermissionError\u001b[0m                           Traceback (most recent call last)",
      "\u001b[1;32mC:\\Users\\M05DE~1.DAL\\AppData\\Local\\Temp/ipykernel_9048/1698673061.py\u001b[0m in \u001b[0;36m<module>\u001b[1;34m\u001b[0m\n\u001b[0;32m     12\u001b[0m         \u001b[0mdfCodesp\u001b[0m \u001b[1;33m=\u001b[0m \u001b[0mdfCodesp\u001b[0m\u001b[1;33m.\u001b[0m\u001b[0mappend\u001b[0m\u001b[1;33m(\u001b[0m\u001b[0mdata\u001b[0m\u001b[1;33m)\u001b[0m\u001b[1;33m\u001b[0m\u001b[1;33m\u001b[0m\u001b[0m\n\u001b[0;32m     13\u001b[0m \u001b[1;33m\u001b[0m\u001b[0m\n\u001b[1;32m---> 14\u001b[1;33m \u001b[0mdfCodesp\u001b[0m\u001b[1;33m.\u001b[0m\u001b[0mto_excel\u001b[0m\u001b[1;33m(\u001b[0m\u001b[0mpath_global\u001b[0m \u001b[1;33m+\u001b[0m \u001b[1;34m'\\\\codesp_2022_jan_a_abr.xlsx'\u001b[0m\u001b[1;33m,\u001b[0m \u001b[0mindex\u001b[0m\u001b[1;33m=\u001b[0m\u001b[1;32mFalse\u001b[0m\u001b[1;33m)\u001b[0m\u001b[1;33m\u001b[0m\u001b[1;33m\u001b[0m\u001b[0m\n\u001b[0m",
      "\u001b[1;32m~\\Anaconda3\\lib\\site-packages\\pandas\\core\\generic.py\u001b[0m in \u001b[0;36mto_excel\u001b[1;34m(self, excel_writer, sheet_name, na_rep, float_format, columns, header, index, index_label, startrow, startcol, engine, merge_cells, encoding, inf_rep, verbose, freeze_panes, storage_options)\u001b[0m\n\u001b[0;32m   2282\u001b[0m             \u001b[0minf_rep\u001b[0m\u001b[1;33m=\u001b[0m\u001b[0minf_rep\u001b[0m\u001b[1;33m,\u001b[0m\u001b[1;33m\u001b[0m\u001b[1;33m\u001b[0m\u001b[0m\n\u001b[0;32m   2283\u001b[0m         )\n\u001b[1;32m-> 2284\u001b[1;33m         formatter.write(\n\u001b[0m\u001b[0;32m   2285\u001b[0m             \u001b[0mexcel_writer\u001b[0m\u001b[1;33m,\u001b[0m\u001b[1;33m\u001b[0m\u001b[1;33m\u001b[0m\u001b[0m\n\u001b[0;32m   2286\u001b[0m             \u001b[0msheet_name\u001b[0m\u001b[1;33m=\u001b[0m\u001b[0msheet_name\u001b[0m\u001b[1;33m,\u001b[0m\u001b[1;33m\u001b[0m\u001b[1;33m\u001b[0m\u001b[0m\n",
      "\u001b[1;32m~\\Anaconda3\\lib\\site-packages\\pandas\\io\\formats\\excel.py\u001b[0m in \u001b[0;36mwrite\u001b[1;34m(self, writer, sheet_name, startrow, startcol, freeze_panes, engine, storage_options)\u001b[0m\n\u001b[0;32m    832\u001b[0m             \u001b[1;31m# error: Cannot instantiate abstract class 'ExcelWriter' with abstract\u001b[0m\u001b[1;33m\u001b[0m\u001b[1;33m\u001b[0m\u001b[1;33m\u001b[0m\u001b[0m\n\u001b[0;32m    833\u001b[0m             \u001b[1;31m# attributes 'engine', 'save', 'supported_extensions' and 'write_cells'\u001b[0m\u001b[1;33m\u001b[0m\u001b[1;33m\u001b[0m\u001b[1;33m\u001b[0m\u001b[0m\n\u001b[1;32m--> 834\u001b[1;33m             writer = ExcelWriter(  # type: ignore[abstract]\n\u001b[0m\u001b[0;32m    835\u001b[0m                 \u001b[0mwriter\u001b[0m\u001b[1;33m,\u001b[0m \u001b[0mengine\u001b[0m\u001b[1;33m=\u001b[0m\u001b[0mengine\u001b[0m\u001b[1;33m,\u001b[0m \u001b[0mstorage_options\u001b[0m\u001b[1;33m=\u001b[0m\u001b[0mstorage_options\u001b[0m\u001b[1;33m\u001b[0m\u001b[1;33m\u001b[0m\u001b[0m\n\u001b[0;32m    836\u001b[0m             )\n",
      "\u001b[1;32m~\\Anaconda3\\lib\\site-packages\\pandas\\io\\excel\\_xlsxwriter.py\u001b[0m in \u001b[0;36m__init__\u001b[1;34m(self, path, engine, date_format, datetime_format, mode, storage_options, if_sheet_exists, engine_kwargs, **kwargs)\u001b[0m\n\u001b[0;32m    189\u001b[0m             \u001b[1;32mraise\u001b[0m \u001b[0mValueError\u001b[0m\u001b[1;33m(\u001b[0m\u001b[1;34m\"Append mode is not supported with xlsxwriter!\"\u001b[0m\u001b[1;33m)\u001b[0m\u001b[1;33m\u001b[0m\u001b[1;33m\u001b[0m\u001b[0m\n\u001b[0;32m    190\u001b[0m \u001b[1;33m\u001b[0m\u001b[0m\n\u001b[1;32m--> 191\u001b[1;33m         super().__init__(\n\u001b[0m\u001b[0;32m    192\u001b[0m             \u001b[0mpath\u001b[0m\u001b[1;33m,\u001b[0m\u001b[1;33m\u001b[0m\u001b[1;33m\u001b[0m\u001b[0m\n\u001b[0;32m    193\u001b[0m             \u001b[0mengine\u001b[0m\u001b[1;33m=\u001b[0m\u001b[0mengine\u001b[0m\u001b[1;33m,\u001b[0m\u001b[1;33m\u001b[0m\u001b[1;33m\u001b[0m\u001b[0m\n",
      "\u001b[1;32m~\\Anaconda3\\lib\\site-packages\\pandas\\io\\excel\\_base.py\u001b[0m in \u001b[0;36m__init__\u001b[1;34m(self, path, engine, date_format, datetime_format, mode, storage_options, if_sheet_exists, engine_kwargs, **kwargs)\u001b[0m\n\u001b[0;32m    923\u001b[0m         \u001b[0mself\u001b[0m\u001b[1;33m.\u001b[0m\u001b[0mhandles\u001b[0m \u001b[1;33m=\u001b[0m \u001b[0mIOHandles\u001b[0m\u001b[1;33m(\u001b[0m\u001b[0mcast\u001b[0m\u001b[1;33m(\u001b[0m\u001b[0mBuffer\u001b[0m\u001b[1;33m,\u001b[0m \u001b[0mpath\u001b[0m\u001b[1;33m)\u001b[0m\u001b[1;33m,\u001b[0m \u001b[0mcompression\u001b[0m\u001b[1;33m=\u001b[0m\u001b[1;33m{\u001b[0m\u001b[1;34m\"copression\"\u001b[0m\u001b[1;33m:\u001b[0m \u001b[1;32mNone\u001b[0m\u001b[1;33m}\u001b[0m\u001b[1;33m)\u001b[0m\u001b[1;33m\u001b[0m\u001b[1;33m\u001b[0m\u001b[0m\n\u001b[0;32m    924\u001b[0m         \u001b[1;32mif\u001b[0m \u001b[1;32mnot\u001b[0m \u001b[0misinstance\u001b[0m\u001b[1;33m(\u001b[0m\u001b[0mpath\u001b[0m\u001b[1;33m,\u001b[0m \u001b[0mExcelWriter\u001b[0m\u001b[1;33m)\u001b[0m\u001b[1;33m:\u001b[0m\u001b[1;33m\u001b[0m\u001b[1;33m\u001b[0m\u001b[0m\n\u001b[1;32m--> 925\u001b[1;33m             self.handles = get_handle(\n\u001b[0m\u001b[0;32m    926\u001b[0m                 \u001b[0mpath\u001b[0m\u001b[1;33m,\u001b[0m \u001b[0mmode\u001b[0m\u001b[1;33m,\u001b[0m \u001b[0mstorage_options\u001b[0m\u001b[1;33m=\u001b[0m\u001b[0mstorage_options\u001b[0m\u001b[1;33m,\u001b[0m \u001b[0mis_text\u001b[0m\u001b[1;33m=\u001b[0m\u001b[1;32mFalse\u001b[0m\u001b[1;33m\u001b[0m\u001b[1;33m\u001b[0m\u001b[0m\n\u001b[0;32m    927\u001b[0m             )\n",
      "\u001b[1;32m~\\Anaconda3\\lib\\site-packages\\pandas\\io\\common.py\u001b[0m in \u001b[0;36mget_handle\u001b[1;34m(path_or_buf, mode, encoding, compression, memory_map, is_text, errors, storage_options)\u001b[0m\n\u001b[0;32m    709\u001b[0m         \u001b[1;32melse\u001b[0m\u001b[1;33m:\u001b[0m\u001b[1;33m\u001b[0m\u001b[1;33m\u001b[0m\u001b[0m\n\u001b[0;32m    710\u001b[0m             \u001b[1;31m# Binary mode\u001b[0m\u001b[1;33m\u001b[0m\u001b[1;33m\u001b[0m\u001b[1;33m\u001b[0m\u001b[0m\n\u001b[1;32m--> 711\u001b[1;33m             \u001b[0mhandle\u001b[0m \u001b[1;33m=\u001b[0m \u001b[0mopen\u001b[0m\u001b[1;33m(\u001b[0m\u001b[0mhandle\u001b[0m\u001b[1;33m,\u001b[0m \u001b[0mioargs\u001b[0m\u001b[1;33m.\u001b[0m\u001b[0mmode\u001b[0m\u001b[1;33m)\u001b[0m\u001b[1;33m\u001b[0m\u001b[1;33m\u001b[0m\u001b[0m\n\u001b[0m\u001b[0;32m    712\u001b[0m         \u001b[0mhandles\u001b[0m\u001b[1;33m.\u001b[0m\u001b[0mappend\u001b[0m\u001b[1;33m(\u001b[0m\u001b[0mhandle\u001b[0m\u001b[1;33m)\u001b[0m\u001b[1;33m\u001b[0m\u001b[1;33m\u001b[0m\u001b[0m\n\u001b[0;32m    713\u001b[0m \u001b[1;33m\u001b[0m\u001b[0m\n",
      "\u001b[1;31mPermissionError\u001b[0m: [Errno 13] Permission denied: 'C:\\\\Users\\\\m.dalves\\\\Documents\\\\GIT\\\\ML Project Rollover\\\\ANTAQ\\\\ANTAQ\\\\codesp_2022_jan_a_abr.xlsx'"
     ]
    }
   ],
   "source": [
    "dfCodesp = pd.DataFrame(columns={'Período','Operação','Terminal','Tipo','F_E','20_40','Tipo_Valor','Valor'})\n",
    "file_path = path_global + \"\\\\2022\"\n",
    "files = os.listdir(file_path)\n",
    "files_xls = [f for f in files if f[-3:] == 'pdf']\n",
    "\n",
    "for f in files_xls:\n",
    "    path_file = file_path + '\\\\' + f\n",
    "    pages = [14,15]\n",
    "    for page in pages:\n",
    "        df = read_pdf(path_file, pages=[page], multiple_tables=True,  pandas_options= {'dtype': str})\n",
    "        data = leitura_codesp(df, page)\n",
    "        dfCodesp = dfCodesp.append(data)\n",
    "\n",
    "dfCodesp.to_excel(path_global + '\\\\codesp_2022_jan_a_abr.xlsx', index=False)"
   ]
  },
  {
   "cell_type": "code",
   "execution_count": null,
   "id": "d5b8346b",
   "metadata": {},
   "outputs": [],
   "source": []
  }
 ],
 "metadata": {
  "kernelspec": {
   "display_name": "Python 3",
   "language": "python",
   "name": "python3"
  },
  "language_info": {
   "codemirror_mode": {
    "name": "ipython",
    "version": 3
   },
   "file_extension": ".py",
   "mimetype": "text/x-python",
   "name": "python",
   "nbconvert_exporter": "python",
   "pygments_lexer": "ipython3",
   "version": "3.8.10"
  }
 },
 "nbformat": 4,
 "nbformat_minor": 5
}
