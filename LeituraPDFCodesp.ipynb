{
 "cells": [
  {
   "cell_type": "markdown",
   "id": "2cab9d2b",
   "metadata": {},
   "source": [
    "### Importar Bibliotecas ###"
   ]
  },
  {
   "cell_type": "code",
   "execution_count": 5,
   "id": "745c870a",
   "metadata": {},
   "outputs": [],
   "source": [
    "#Bibliotecas que realizam a leitura e conversão do PDF para DataFrame\n",
    "import tabula\n",
    "from tabula.io import read_pdf\n",
    "#Bibliotecas para manipulação do DataFrame\n",
    "import pandas as pd\n",
    "import numpy as np\n",
    "#Biblioteca para manipulação de diretórios\n",
    "import os"
   ]
  },
  {
   "cell_type": "code",
   "execution_count": 1,
   "id": "cc20e810",
   "metadata": {},
   "outputs": [],
   "source": [
    "#Local onde estão os arquivos PDF da CODESP\n",
    "path_global = 'C:\\\\Users\\\\LDT\\\\Documents\\\\GitHub'"
   ]
  },
  {
   "cell_type": "markdown",
   "id": "0e6f8db7",
   "metadata": {},
   "source": [
    "### Função de Leitura do PDF CODESP ###"
   ]
  },
  {
   "cell_type": "code",
   "execution_count": 3,
   "id": "51267d19",
   "metadata": {},
   "outputs": [],
   "source": [
    "def leitura_codesp(df, page):\n",
    "    if(page == 15):\n",
    "        tipo = 'E'\n",
    "    else:\n",
    "        tipo = 'I'\n",
    "    #Preencher Títulos da tabela\n",
    "    dfTitulos = df[1]\n",
    "    dfTitulos = dfTitulos.loc[:, ~dfTitulos.columns.str.contains('Unnamed')]\n",
    "    dfTitulos = dfTitulos.T\n",
    "    dfTitulos.reset_index(inplace=True)\n",
    "    dfTitulos = dfTitulos.rename(columns = {'index':'Terminal'})\n",
    "    dfTitulos = dfTitulos[['Terminal']]\n",
    "    \n",
    "    #Preencher Mês do Relatório\n",
    "    periodo = df[0].iloc[: , -1:]    \n",
    "    periodo = periodo[df[0].columns[6]]\n",
    "    periodo = periodo.str.split('-')\n",
    "    periodo = periodo.tolist()\n",
    "    periodo = periodo[0][1].strip()\n",
    "        \n",
    "    #Leitura dos Resultados\n",
    "    l = [2,3]\n",
    "    dfAll = pd.DataFrame(columns={'Período','Operação','Terminal','Tipo','F_E','20_40','Tipo_Valor','Valor'})\n",
    "    \n",
    "    for r in l:        \n",
    "        if (r == 2):\n",
    "            operacao = 'Longo Curso'\n",
    "        else:\n",
    "            operacao = 'Cabotagem'\n",
    "        \n",
    "        #Retirando coluna a mais criada somente na tabela cabotagem\n",
    "        if(r == 3 and page == 15):\n",
    "            df[r] = df[r].drop(columns=['Unnamed: 1'])\n",
    "        \n",
    "        dfResultados = df[r].T\n",
    "        dfResultados.reset_index(inplace=True)\n",
    "        dfResultados = dfResultados.rename(columns = {'index':'Quant'})\n",
    "        dfResultados = dfResultados[2:]\n",
    "\n",
    "        #Tratamento dos Dados\n",
    "        dfResultados = dfResultados.rename(columns={dfResultados.columns[0]:'F_20',\n",
    "                                                    dfResultados.columns[1]:'F_40',\n",
    "                                                    dfResultados.columns[2]:'F_Soma',\n",
    "                                                    dfResultados.columns[3]:'E_20',\n",
    "                                                    dfResultados.columns[4]:'E_40',\n",
    "                                                    dfResultados.columns[5]:'E_Soma',\n",
    "                                                    dfResultados.columns[6]:'Total_20',\n",
    "                                                    dfResultados.columns[7]:'Total_40',\n",
    "                                                    dfResultados.columns[8]:'Total_Soma'})\n",
    "        dfResultados = dfResultados.loc[:, ~dfResultados.columns.str.contains('Soma')]\n",
    "        dfResultados = dfResultados.loc[:, ~dfResultados.columns.str.contains('Total')]\n",
    "        dfResultados = dfResultados.reset_index()\n",
    "        dfResultados = dfResultados.loc[:, ~dfResultados.columns.str.contains('index')]\n",
    "        dfResultados['Tipo'] = ''\n",
    "        dfResultados.drop(dfResultados.tail(3).index,inplace=True)\n",
    "        \n",
    "        \n",
    "        for column in dfResultados.columns:\n",
    "                x = 0\n",
    "                y = 0    \n",
    "                tipo_valor = ''\n",
    "                for c in dfResultados[column]:\n",
    "                    terminal = dfTitulos['Terminal'].iloc[y]\n",
    "                    if(x%2 == 0):\n",
    "                        #par\n",
    "                        tipo_valor = 'Quantidade'\n",
    "                    else:\n",
    "                        #impar\n",
    "                        tipo_valor = 'Peso'\n",
    "                        y = y + 1\n",
    "\n",
    "                    dict = {'Período': periodo,'Operação': operacao, 'Terminal':terminal,'Tipo':tipo, 'F_E':column[0:1], '20_40':column[2:],'Tipo_Valor':tipo_valor,'Valor': c}\n",
    "                    dfAll = dfAll.append(dict, ignore_index = True)       \n",
    "                    x = x + 1\n",
    "                    if x == 1:\n",
    "                        y = 0\n",
    "                    if y == 5:\n",
    "                        y = 0\n",
    "        \n",
    "        #Filtrando campos de F/E, Quantidade e eliminando 'demais terminais'\n",
    "        dfAll = dfAll[~dfAll['F_E'].isin(['T'])]\n",
    "        dfAll = dfAll[dfAll['Tipo_Valor']=='Quantidade']\n",
    "        dfAll = dfAll[~dfAll['Terminal'].isin(['Demais Pontos'])]\n",
    "\n",
    "        #Tratando campo valor e corrigindo padrão americano\n",
    "        dfAll['Valor'] = np.where(dfAll['Valor'].str.contains('Unnamed') == True, 0, dfAll['Valor'])\n",
    "        dfAll['Valor'] = np.where(dfAll['Valor'].str.contains('-') == True, 0, dfAll['Valor'])\n",
    "        dfAll['Valor'] = np.where(dfAll['Valor'].str.contains('.') == True, dfAll['Valor'].str.replace(\".\",\"\").astype('float'), dfAll['Valor'].astype('float'))\n",
    "        dfAll['Valor'] = dfAll['Valor'].fillna(0)\n",
    "\n",
    "    return dfAll"
   ]
  },
  {
   "cell_type": "markdown",
   "id": "5bbdc6e3",
   "metadata": {},
   "source": [
    "### Leitura dos diretórios e chamada para a função Leitura do PDF da CODESP ###"
   ]
  },
  {
   "cell_type": "code",
   "execution_count": 7,
   "id": "5a29e2b6",
   "metadata": {},
   "outputs": [
    {
     "name": "stderr",
     "output_type": "stream",
     "text": [
      "<ipython-input-3-88b0baba6537>:83: FutureWarning: The default value of regex will change from True to False in a future version. In addition, single character regular expressions will *not* be treated as literal strings when regex=True.\n",
      "  dfAll['Valor'] = np.where(dfAll['Valor'].str.contains('.') == True, dfAll['Valor'].str.replace(\".\",\"\").astype('float'), dfAll['Valor'].astype('float'))\n"
     ]
    }
   ],
   "source": [
    "dfCodesp = pd.DataFrame(columns={'Período','Operação','Terminal','Tipo','F_E','20_40','Tipo_Valor','Valor'})\n",
    "file_path = path_global + \"\\\\2022\"\n",
    "files = os.listdir(file_path)\n",
    "files_pdf = [f for f in files if f[-3:] == 'pdf']\n",
    "\n",
    "#Leitura de arquivos\n",
    "for f in files_pdf:\n",
    "    path_file = file_path + '\\\\' + f\n",
    "    pages = [14,15]\n",
    "    for page in pages:\n",
    "        df = read_pdf(path_file, pages=[page], multiple_tables=True,  pandas_options= {'dtype': str})\n",
    "        data = leitura_codesp(df, page)\n",
    "        dfCodesp = dfCodesp.append(data)\n",
    "\n",
    "dfCodesp.to_excel(path_global + '\\\\codesp_2022_jan_a_abr.xlsx', index=False)"
   ]
  },
  {
   "cell_type": "code",
   "execution_count": null,
   "id": "d5b8346b",
   "metadata": {},
   "outputs": [],
   "source": []
  }
 ],
 "metadata": {
  "kernelspec": {
   "display_name": "Python 3",
   "language": "python",
   "name": "python3"
  },
  "language_info": {
   "codemirror_mode": {
    "name": "ipython",
    "version": 3
   },
   "file_extension": ".py",
   "mimetype": "text/x-python",
   "name": "python",
   "nbconvert_exporter": "python",
   "pygments_lexer": "ipython3",
   "version": "3.8.10"
  }
 },
 "nbformat": 4,
 "nbformat_minor": 5
}
